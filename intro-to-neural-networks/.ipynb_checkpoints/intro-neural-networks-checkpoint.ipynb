{
 "cells": [
  {
   "cell_type": "markdown",
   "metadata": {},
   "source": [
    "# Classification\n",
    "\n",
    "---"
   ]
  },
  {
   "cell_type": "markdown",
   "metadata": {},
   "source": [
    "**When we have a system for acceptance of students at a university and most people who get 9 in test and 8 in grades more likely to get accepted but who get 3 in test and 4 in grades are more likely not to be accepted, so I we have a student who gets 7 in test and 6 in grades, will he be accepted or not?**"
   ]
  },
  {
   "cell_type": "markdown",
   "metadata": {},
   "source": [
    "<img src=\"1.png\">"
   ]
  },
  {
   "cell_type": "markdown",
   "metadata": {},
   "source": [
    "**we could say from the data above that the student will be accepted because he falls at the area of accepted students. We can clarify it more by setting a line which seperates the students who got accepted or not accepted like below**"
   ]
  },
  {
   "cell_type": "markdown",
   "metadata": {},
   "source": [
    "<img src=\"2.png\" width=500>"
   ]
  },
  {
   "cell_type": "markdown",
   "metadata": {},
   "source": [
    "| **that line which has been drawn it has an equation $2x_{1} + x_{2} - 18 = 0$ which mean to accept or reject a student we should see the equation result $2*test + grades - 18 = 0$ and the result if it > 0 the student will be accepted and if it < 0 the student will be rejected** | <img src=\"3.png\"> |\n",
    "| :--- | :---: |"
   ]
  },
  {
   "cell_type": "markdown",
   "metadata": {},
   "source": [
    "|**In more general case the equation of the boundary line will be $w_{1}x_{1} + w_{2}x_{2} + b = 0$ and to summarize it more, we will have $WX + b = 0$ which $W$ is a vector of $w_{1}, w_{2}$ and $X$ is a vector of $x_{1}, x_{2}$ **||\n",
    "| :--- | :---: |"
   ]
  }
 ],
 "metadata": {
  "kernelspec": {
   "display_name": "Python 3",
   "language": "python",
   "name": "python3"
  },
  "language_info": {
   "codemirror_mode": {
    "name": "ipython",
    "version": 3
   },
   "file_extension": ".py",
   "mimetype": "text/x-python",
   "name": "python",
   "nbconvert_exporter": "python",
   "pygments_lexer": "ipython3",
   "version": "3.7.4"
  }
 },
 "nbformat": 4,
 "nbformat_minor": 2
}
